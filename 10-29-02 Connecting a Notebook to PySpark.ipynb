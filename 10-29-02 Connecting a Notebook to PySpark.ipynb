{
 "cells": [
  {
   "cell_type": "markdown",
   "metadata": {},
   "source": [
    "### Connecting a Notebook to PySpark\n",
    "\n",
    "These instructions were source from the Lynda course on [Apache Spark Essential Training](https://www.lynda.com/Apache-Spark-tutorials/Connecting-Jupyter-notebooks-Spark/550568/581970-4.html?autoplay=true).\n",
    "\n",
    "**Terminal Commands for setup**"
   ]
  },
  {
   "cell_type": "markdown",
   "metadata": {},
   "source": [
    "<br>`(spark) Kavis-MacBook-Pro:~ kavi$ echo \"export PATH=$PATH:~/spark/bin\" >> .profile`\n",
    "<br>`(spark) Kavis-MacBook-Pro:~ kavi$ echo \"export PYSPARK_DRIVER_PYTHON=ipython\" >> .profile`\n",
    "<br>`(spark) Kavis-MacBook-Pro:~ kavi$ echo \"export PYSPARK_DRIVER_PYTHON_OPTS='notebook' pyspark\" >> .profile`\n",
    "<br>`(spark) Kavis-MacBook-Pro:~ kavi$ source .profile`\n",
    "<br>`(spark) Kavis-MacBook-Pro:~ kavi$ pyspark`"
   ]
  },
  {
   "cell_type": "code",
   "execution_count": 3,
   "metadata": {
    "ExecuteTime": {
     "end_time": "2018-10-29T07:02:25.126591Z",
     "start_time": "2018-10-29T07:02:25.122042Z"
    }
   },
   "outputs": [
    {
     "data": {
      "text/html": [
       "\n",
       "        <div>\n",
       "            <p><b>SparkContext</b></p>\n",
       "\n",
       "            <p><a href=\"http://10.0.1.19:4040\">Spark UI</a></p>\n",
       "\n",
       "            <dl>\n",
       "              <dt>Version</dt>\n",
       "                <dd><code>v2.3.2</code></dd>\n",
       "              <dt>Master</dt>\n",
       "                <dd><code>local[*]</code></dd>\n",
       "              <dt>AppName</dt>\n",
       "                <dd><code>PySparkShell</code></dd>\n",
       "            </dl>\n",
       "        </div>\n",
       "        "
      ],
      "text/plain": [
       "<SparkContext master=local[*] appName=PySparkShell>"
      ]
     },
     "execution_count": 3,
     "metadata": {},
     "output_type": "execute_result"
    }
   ],
   "source": [
    "# Test that this notebook is attached to apache Spark\n",
    "sc"
   ]
  }
 ],
 "metadata": {
  "kernelspec": {
   "display_name": "Python 3",
   "language": "python",
   "name": "python3"
  },
  "language_info": {
   "codemirror_mode": {
    "name": "ipython",
    "version": 3
   },
   "file_extension": ".py",
   "mimetype": "text/x-python",
   "name": "python",
   "nbconvert_exporter": "python",
   "pygments_lexer": "ipython3",
   "version": "3.6.6"
  },
  "varInspector": {
   "cols": {
    "lenName": 16,
    "lenType": 16,
    "lenVar": 40
   },
   "kernels_config": {
    "python": {
     "delete_cmd_postfix": "",
     "delete_cmd_prefix": "del ",
     "library": "var_list.py",
     "varRefreshCmd": "print(var_dic_list())"
    },
    "r": {
     "delete_cmd_postfix": ") ",
     "delete_cmd_prefix": "rm(",
     "library": "var_list.r",
     "varRefreshCmd": "cat(var_dic_list()) "
    }
   },
   "types_to_exclude": [
    "module",
    "function",
    "builtin_function_or_method",
    "instance",
    "_Feature"
   ],
   "window_display": false
  }
 },
 "nbformat": 4,
 "nbformat_minor": 2
}
